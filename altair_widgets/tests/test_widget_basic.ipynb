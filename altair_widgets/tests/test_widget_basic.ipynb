{
 "cells": [
  {
   "cell_type": "code",
   "execution_count": null,
   "metadata": {
    "ExecuteTime": {
     "end_time": "2016-11-03T21:38:54.518273",
     "start_time": "2016-11-03T21:38:54.513790"
    },
    "collapsed": false
   },
   "outputs": [],
   "source": [
    "\"\"\"setup\"\"\"\n",
    "import pandas as pd\n",
    "import pytest\n",
    "import sys\n",
    "sys.path.append('../..')\n",
    "from altair_widgets import interact_with\n",
    "from altair import load_dataset"
   ]
  },
  {
   "cell_type": "code",
   "execution_count": null,
   "metadata": {
    "ExecuteTime": {
     "end_time": "2016-11-03T21:38:54.682308",
     "start_time": "2016-11-03T21:38:54.678365"
    },
    "collapsed": false,
    "scrolled": true
   },
   "outputs": [],
   "source": [
    "\"\"\"test_input_fail\"\"\"\n",
    "d = [{'a': 1, 'b': 2, 'c': 4}]*4\n",
    "\n",
    "with pytest.raises(ValueError):\n",
    "    interact_with(d)"
   ]
  },
  {
   "cell_type": "code",
   "execution_count": null,
   "metadata": {
    "ExecuteTime": {
     "end_time": "2016-11-03T21:38:54.958808",
     "start_time": "2016-11-03T21:38:54.850252"
    },
    "collapsed": false
   },
   "outputs": [],
   "source": [
    "\"\"\"test_input\"\"\"\n",
    "df = pd.DataFrame(d)\n",
    "interact_with(df, show=False)"
   ]
  },
  {
   "cell_type": "code",
   "execution_count": null,
   "metadata": {
    "ExecuteTime": {
     "end_time": "2016-11-03T21:38:55.126063",
     "start_time": "2016-11-03T21:38:55.006984"
    },
    "collapsed": false
   },
   "outputs": [],
   "source": [
    "\"\"\"test_basic_config\"\"\"\n",
    "df = load_dataset('iris')\n",
    "df.head()\n",
    "w = interact_with(df, show=False)\n",
    "w.settings['encodings'] = [{'encoding': 'x', 'column': 'petalWidth'},\n",
    "                           {'encoding': 'y', 'column': 'petalLength'},\n",
    "                           {'encoding': 'color', 'column': 'species'}]\n",
    "w.plot(show=False)"
   ]
  },
  {
   "cell_type": "code",
   "execution_count": null,
   "metadata": {
    "ExecuteTime": {
     "end_time": "2016-11-03T21:38:55.211335",
     "start_time": "2016-11-03T21:38:55.183908"
    },
    "collapsed": false
   },
   "outputs": [],
   "source": [
    "\"\"\"test_generates_same_chart_as_altair\"\"\"\n",
    "import altair\n",
    "from altair import Chart\n",
    "\n",
    "c = Chart(df).mark_point().encode(\n",
    "    x='petalWidth', y='petalLength', color='species')\n",
    "\n",
    "assert type(w.chart) is altair.api.Chart\n",
    "assert c.to_dict() == w.chart.to_dict()"
   ]
  },
  {
   "cell_type": "code",
   "execution_count": null,
   "metadata": {
    "ExecuteTime": {
     "end_time": "2016-11-03T21:38:55.691974",
     "start_time": "2016-11-03T21:38:55.558583"
    },
    "collapsed": false
   },
   "outputs": [],
   "source": [
    "\"\"\"test_bg_color\"\"\"\n",
    "w = interact_with(df, show=False)\n",
    "w.settings = {'mark': {'mark': 'mark_text', 'applyColorToBackground': True},\n",
    "              'encodings': [{'encoding': 'row', 'column': 'species'},\n",
    "                            {'encoding': 'color', 'column': 'petalLength'},\n",
    "                            {'encoding': 'text', 'column': ' '}]\n",
    "              }\n",
    "w.plot(show=False)\n",
    "c = Chart(df).mark_text(applyColorToBackground=True).encode(\n",
    "    row='species',\n",
    "    color='petalLength',\n",
    "    text=' ')\n",
    "    \n",
    "assert c.to_dict() == w.chart.to_dict()"
   ]
  },
  {
   "cell_type": "code",
   "execution_count": null,
   "metadata": {
    "ExecuteTime": {
     "end_time": "2016-11-03T21:38:56.133712",
     "start_time": "2016-11-03T21:38:55.998725"
    },
    "collapsed": false
   },
   "outputs": [],
   "source": [
    "\"\"\"test_log\"\"\"\n",
    "w = interact_with(df, show=False)\n",
    "w.settings['encodings'] = [{'encoding': 'x', 'column': 'petalWidth', 'scale': 'log'},\n",
    "                           {'encoding': 'y', 'column': 'petalLength'},\n",
    "                           {'encoding': 'color', 'column': 'species'}]\n",
    "w.plot(show=False)\n",
    "c = Chart(df).mark_point().encode(\n",
    "    x=altair.X('petalWidth', scale=altair.Scale(type='log')),\n",
    "    y='petalLength', color='species')\n",
    "    \n",
    "assert c.to_dict() == w.chart.to_dict()"
   ]
  },
  {
   "cell_type": "code",
   "execution_count": null,
   "metadata": {
    "ExecuteTime": {
     "end_time": "2016-11-03T21:38:56.436925",
     "start_time": "2016-11-03T21:38:56.318707"
    },
    "collapsed": false
   },
   "outputs": [],
   "source": [
    "\"\"\"test_update\"\"\"\n",
    "class Event:\n",
    "    def __init__(self, row, title, value):\n",
    "        self.row = row\n",
    "        self.title = title\n",
    "        self.value = value\n",
    "\n",
    "w = interact_with(df, show=False)\n",
    "w.settings['encodings'] = [{'encoding': 'x', 'column': 'petalWidth', 'scale': 'log'},\n",
    "                           {'encoding': 'y', 'column': 'petalLength'},\n",
    "                           {'encoding': 'color', 'column': 'species'}]\n",
    "old = 'linear'\n",
    "event = {'owner': Event(1, 'scale', old), 'old': old, 'new': 'log'}\n",
    "w._update(event)\n",
    "new_settings = [{'encoding': 'x', 'column': 'petalWidth', 'scale': 'log'},\n",
    "                {'encoding': 'y', 'column': 'petalLength', 'scale': 'log'},\n",
    "                {'encoding': 'color', 'column': 'species'}]\n",
    "\n",
    "assert new_settings == w.settings['encodings']"
   ]
  },
  {
   "cell_type": "code",
   "execution_count": null,
   "metadata": {
    "ExecuteTime": {
     "end_time": "2016-11-03T21:42:23.241887",
     "start_time": "2016-11-03T21:42:23.078988"
    },
    "collapsed": false
   },
   "outputs": [],
   "source": [
    "\"\"\"test_adding_dimension\"\"\"\n",
    "w = interact_with(df, show=False)\n",
    "w.settings['encodings'] = [{'encoding': 'x', 'column': 'petalWidth'},\n",
    "                           {'encoding': 'y', 'column': 'petalLength'},\n",
    "                           {'encoding': 'color', 'column': 'species'}]\n",
    "w._add_dim(None)\n",
    "w.settings['encodings'][-1]['encoding'] = 'size'\n",
    "w.settings['encodings'][-1]['column'] = 'sepalLength'\n",
    "w.plot(w.settings)\n",
    "\n",
    "c = Chart(df).mark_point().encode(\n",
    "    x='petalWidth', y='petalLength', color='species', size='sepalLength'\n",
    ")\n",
    "\n",
    "assert w.chart.to_dict() == c.to_dict()"
   ]
  },
  {
   "cell_type": "code",
   "execution_count": null,
   "metadata": {
    "ExecuteTime": {
     "end_time": "2016-11-03T21:47:34.358804",
     "start_time": "2016-11-03T21:47:34.298017"
    },
    "collapsed": false
   },
   "outputs": [],
   "source": [
    "\"\"\"test_ndims\"\"\"\n",
    "w = interact_with(df, ndims=1, show=False)\n",
    "assert len(w.settings['encodings']) == 1"
   ]
  },
  {
   "cell_type": "code",
   "execution_count": null,
   "metadata": {
    "collapsed": true
   },
   "outputs": [],
   "source": []
  }
 ],
 "metadata": {
  "kernelspec": {
   "display_name": "Python [default]",
   "language": "python",
   "name": "python3"
  },
  "language_info": {
   "codemirror_mode": {
    "name": "ipython",
    "version": 3
   },
   "file_extension": ".py",
   "mimetype": "text/x-python",
   "name": "python",
   "nbconvert_exporter": "python",
   "pygments_lexer": "ipython3",
   "version": "3.5.2"
  },
  "nav_menu": {},
  "toc": {
   "navigate_menu": true,
   "number_sections": false,
   "sideBar": true,
   "threshold": "2",
   "toc_cell": false,
   "toc_section_display": "block",
   "toc_window_display": false
  }
 },
 "nbformat": 4,
 "nbformat_minor": 1
}
